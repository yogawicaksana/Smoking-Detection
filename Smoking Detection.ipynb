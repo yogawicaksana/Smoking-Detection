{
 "cells": [
  {
   "cell_type": "code",
   "execution_count": 1,
   "metadata": {},
   "outputs": [],
   "source": [
    "import cv2"
   ]
  },
  {
   "cell_type": "code",
   "execution_count": 2,
   "metadata": {},
   "outputs": [],
   "source": [
    "faceCascade = cv2.CascadeClassifier(\"haarcascade_frontalface_default.xml\")\n",
    "noseCascade = cv2.CascadeClassifier(\"Nariz.xml\")\n",
    "mouthCascade = cv2.CascadeClassifier(\"Mouth.xml\")"
   ]
  },
  {
   "cell_type": "code",
   "execution_count": 3,
   "metadata": {},
   "outputs": [
    {
     "ename": "NameError",
     "evalue": "name 'roi_gray' is not defined",
     "output_type": "error",
     "traceback": [
      "\u001b[1;31m---------------------------------------------------------------------------\u001b[0m",
      "\u001b[1;31mNameError\u001b[0m                                 Traceback (most recent call last)",
      "\u001b[1;32m<ipython-input-3-679685f50c0f>\u001b[0m in \u001b[0;36m<module>\u001b[1;34m\u001b[0m\n\u001b[0;32m     22\u001b[0m     \u001b[1;31m#gambar kotak di hidung\u001b[0m\u001b[1;33m\u001b[0m\u001b[1;33m\u001b[0m\u001b[1;33m\u001b[0m\u001b[0m\n\u001b[0;32m     23\u001b[0m \u001b[1;33m\u001b[0m\u001b[0m\n\u001b[1;32m---> 24\u001b[1;33m     \u001b[0mmulut\u001b[0m \u001b[1;33m=\u001b[0m \u001b[0mmouthCascade\u001b[0m\u001b[1;33m.\u001b[0m\u001b[0mdetectMultiScale\u001b[0m\u001b[1;33m(\u001b[0m\u001b[0mroi_gray\u001b[0m\u001b[1;33m,\u001b[0m \u001b[1;36m1.18\u001b[0m\u001b[1;33m,\u001b[0m \u001b[1;36m35\u001b[0m\u001b[1;33m,\u001b[0m\u001b[1;33m)\u001b[0m\u001b[1;33m\u001b[0m\u001b[1;33m\u001b[0m\u001b[0m\n\u001b[0m\u001b[0;32m     25\u001b[0m     \u001b[1;32mfor\u001b[0m \u001b[1;33m(\u001b[0m\u001b[0msx\u001b[0m\u001b[1;33m,\u001b[0m \u001b[0msy\u001b[0m\u001b[1;33m,\u001b[0m \u001b[0msw\u001b[0m\u001b[1;33m,\u001b[0m \u001b[0msh\u001b[0m\u001b[1;33m)\u001b[0m \u001b[1;32min\u001b[0m \u001b[0mmulut\u001b[0m\u001b[1;33m:\u001b[0m\u001b[1;33m\u001b[0m\u001b[1;33m\u001b[0m\u001b[0m\n\u001b[0;32m     26\u001b[0m         \u001b[0mcv2\u001b[0m\u001b[1;33m.\u001b[0m\u001b[0mrectangle\u001b[0m\u001b[1;33m(\u001b[0m\u001b[0mroi_color\u001b[0m\u001b[1;33m,\u001b[0m \u001b[1;33m(\u001b[0m\u001b[0msh\u001b[0m\u001b[1;33m,\u001b[0m\u001b[0msy\u001b[0m\u001b[1;33m)\u001b[0m\u001b[1;33m,\u001b[0m \u001b[1;33m(\u001b[0m\u001b[0msx\u001b[0m\u001b[1;33m+\u001b[0m\u001b[0msw\u001b[0m\u001b[1;33m,\u001b[0m \u001b[0msy\u001b[0m\u001b[1;33m+\u001b[0m\u001b[0msh\u001b[0m\u001b[1;33m)\u001b[0m\u001b[1;33m,\u001b[0m \u001b[1;33m(\u001b[0m\u001b[1;36m255\u001b[0m\u001b[1;33m,\u001b[0m\u001b[1;36m0\u001b[0m\u001b[1;33m,\u001b[0m\u001b[1;36m0\u001b[0m\u001b[1;33m)\u001b[0m\u001b[1;33m,\u001b[0m\u001b[1;36m2\u001b[0m\u001b[1;33m)\u001b[0m\u001b[1;33m\u001b[0m\u001b[1;33m\u001b[0m\u001b[0m\n",
      "\u001b[1;31mNameError\u001b[0m: name 'roi_gray' is not defined"
     ]
    }
   ],
   "source": [
    "video_capture = cv2.VideoCapture(0)\n",
    "merokok = False\n",
    "\n",
    "while True:\n",
    "    #ambil frame by frame\n",
    "    ret, frame = video_capture.read()\n",
    "    \n",
    "    gray = cv2.cvtColor(frame, cv2.COLOR_BGR2GRAY)\n",
    "    wajah = faceCascade.detectMultiScale(gray,1.1,5)\n",
    "    \n",
    "    #gambar kotak di wajah\n",
    "    for (x,y,w,h) in wajah:\n",
    "        roi_gray = gray[y:y+h, x:x+w]\n",
    "        roi_color = frame[y:y+h, x:x+w]\n",
    "        if merokok:\n",
    "            cv2.rectangle(frame, (x,y), (x+w, y+h), (0, 255, 0), 3)\n",
    "            cv2.putText(frame, 'Tidak Merokok', (x,y), cv2.FONT_HERSHEY_SIMPLEX,2,(0,255,0),5)\n",
    "        else:\n",
    "            cv2.rectangle(frame, (x,y), (x+w, y+h), (0, 0, 255), 3)\n",
    "            cv2.putText(frame, 'Anda Merokok', (x,y), cv2.FONT_HERSHEY_SIMPLEX,2,(0,0,255),5)\n",
    "    \n",
    "    #gambar kotak di hidung\n",
    "    \n",
    "    mulut = mouthCascade.detectMultiScale(roi_gray, 1.18, 35,)\n",
    "    for (sx, sy, sw, sh) in mulut:\n",
    "        cv2.rectangle(roi_color, (sh,sy), (sx+sw, sy+sh), (255,0,0),2)\n",
    "        cv2.putText(frame, ' ',(x + sx, y + sy), 1, 1, (0,255,0),1)\n",
    "        \n",
    "    if len(mulut)<0:\n",
    "        merokok = False\n",
    "    else:\n",
    "        merokok = True\n",
    "    \n",
    "    cv2.putText(frame,'Jumlah Wajah: ' + str(len(wajah)), (30,30), cv2.FONT_HERSHEY_SIMPLEX, 1, (255,0,0),2)\n",
    "    cv2.imshow('Video', frame)\n",
    "    \n",
    "    if cv2.waitKey(1) & 0xFF == ord('q'):\n",
    "        break\n",
    "        \n",
    "video_capture.release()\n",
    "cv2.destroyAllWindows()"
   ]
  },
  {
   "cell_type": "code",
   "execution_count": 4,
   "metadata": {},
   "outputs": [
    {
     "name": "stdout",
     "output_type": "stream",
     "text": [
      "name 'rot' is not defined \n",
      "FIN\n"
     ]
    }
   ],
   "source": [
    "cap = cv2.VideoCapture(0)\n",
    "_, frame = cap.read()\n",
    "if frame.shape[0]*1.78 < frame.shape[1]: # Vertical, 9:16 ratio\n",
    "    rot = True\n",
    "while True:\n",
    "    try:\n",
    "        ret, frame = cap.read()\n",
    "        gray = cv2.cvtColor(frame, cv2.COLOR_BGR2GRAY)\n",
    "        if rot:\n",
    "            gray = frame = rotate(frame)\n",
    "        cigs = cigar_cascade.detectMultiScale(gray, 1.35, 60)\n",
    "        for (x,y,w,h) in cigs:\n",
    "            cv2.rectangle(frame, (x,y), (x+w, y+h), (0,0,255), 2)\n",
    "        cv2.imshow('frame', frame)\n",
    "        k = cv2.waitKey(30) & 0xff\n",
    "        if k == 27:\n",
    "            break\n",
    "    except Exception as e:\n",
    "        print(e, '\\nFIN')\n",
    "        break\n",
    "cap.release()\n",
    "cv2.destroyAllWindows()"
   ]
  },
  {
   "cell_type": "code",
   "execution_count": null,
   "metadata": {},
   "outputs": [],
   "source": []
  }
 ],
 "metadata": {
  "kernelspec": {
   "display_name": "Python 3",
   "language": "python",
   "name": "python3"
  },
  "language_info": {
   "codemirror_mode": {
    "name": "ipython",
    "version": 3
   },
   "file_extension": ".py",
   "mimetype": "text/x-python",
   "name": "python",
   "nbconvert_exporter": "python",
   "pygments_lexer": "ipython3",
   "version": "3.7.4"
  }
 },
 "nbformat": 4,
 "nbformat_minor": 2
}
